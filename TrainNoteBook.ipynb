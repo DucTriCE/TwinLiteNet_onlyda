{
 "cells": [
  {
   "cell_type": "code",
   "execution_count": 2,
   "id": "8e12fadf-d2ed-4c3d-b1bb-6b35882f4247",
   "metadata": {},
   "outputs": [
    {
     "name": "stdout",
     "output_type": "stream",
     "text": [
      "Total network parameters: 439633\n",
      "Learning rate: 0.0005\n"
     ]
    },
    {
     "name": "stderr",
     "output_type": "stream",
     "text": [
      "C:\\Users\\admin\\AppData\\Local\\Programs\\Python\\Python311\\Lib\\site-packages\\torch\\utils\\data\\dataloader.py:557: UserWarning: This DataLoader will create 12 worker processes in total. Our suggested max number of worker in current system is 8 (`cpuset` is not taken into account), which is smaller than what this DataLoader is going to create. Please be aware that excessive worker creation might get DataLoader running slow or even freeze, lower the worker number to avoid potential slowness/freeze if necessary.\n",
      "  warnings.warn(_create_warning_msg(\n",
      "\n",
      "        Epoch  TverskyLoss    FocalLoss    TotalLoss\n",
      "\n",
      "  0%|          | 0/1 [00:00<?, ?it/s]\n",
      "  0%|          | 0/1 [00:06<?, ?it/s]\n",
      "Traceback (most recent call last):\n",
      "  File \"F:\\Twinlite\\TwinLiteNet\\train.py\", line 105, in <module>\n",
      "    train_net(parser.parse_args())\n",
      "  File \"F:\\Twinlite\\TwinLiteNet\\train.py\", line 76, in train_net\n",
      "    train( args, trainLoader, model, criteria, optimizer, epoch)\n",
      "  File \"F:\\Twinlite\\TwinLiteNet\\utils.py\", line 71, in train\n",
      "    if args.onGPU == True:\n",
      "       ^^^^^^^^^^\n",
      "AttributeError: 'Namespace' object has no attribute 'onGPU'\n"
     ]
    }
   ],
   "source": [
    "!python train.py"
   ]
  },
  {
   "cell_type": "code",
   "execution_count": null,
   "id": "df8c27f3-fa03-4ac9-bf63-e1937d00c849",
   "metadata": {},
   "outputs": [],
   "source": []
  }
 ],
 "metadata": {
  "kernelspec": {
   "display_name": "Python 3 (ipykernel)",
   "language": "python",
   "name": "python3"
  },
  "language_info": {
   "codemirror_mode": {
    "name": "ipython",
    "version": 3
   },
   "file_extension": ".py",
   "mimetype": "text/x-python",
   "name": "python",
   "nbconvert_exporter": "python",
   "pygments_lexer": "ipython3",
   "version": "3.11.4"
  }
 },
 "nbformat": 4,
 "nbformat_minor": 5
}
